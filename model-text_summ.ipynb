{
 "cells": [
  {
   "cell_type": "markdown",
   "metadata": {},
   "source": [
    "# Implimenting abstractive text summerization"
   ]
  },
  {
   "cell_type": "code",
   "execution_count": 9,
   "metadata": {},
   "outputs": [],
   "source": [
    "#import all the necessary libraries\n",
    "from nltk.corpus import stopwords\n",
    "from nltk.cluster.util import cosine_distance\n",
    "import numpy as np\n",
    "import networkx as nx"
   ]
  },
  {
   "cell_type": "code",
   "execution_count": 40,
   "metadata": {},
   "outputs": [],
   "source": [
    "#generate precize sentences\n",
    "def read_article(file_name):\n",
    "    file = open(file_name, \"r\")\n",
    "    filedata = file.readlines()\n",
    "    for i in range(len(filedata)):\n",
    "        article.append(filedata[i].split(\". \"))\n",
    "    #print(len(article[0]))    \n",
    "    sentences = []\n",
    "    for sentence in article[0]:\n",
    "        #print(sentence)\n",
    "        sentences.append(sentence.replace(\"[^a-zA-Z]\", \" \").split(\" \")) \n",
    "    sentences.pop()\n",
    "    return sentences"
   ]
  },
  {
   "cell_type": "code",
   "execution_count": 41,
   "metadata": {},
   "outputs": [],
   "source": [
    "def sentence_similarity(sent1, sent2, stopwords=None):\n",
    "    if stopwords is None:\n",
    "        stopwords = []\n",
    " \n",
    "    sent1 = [w.lower() for w in sent1]\n",
    "    sent2 = [w.lower() for w in sent2]\n",
    " \n",
    "    all_words = list(set(sent1 + sent2))\n",
    " \n",
    "    vector1 = [0] * len(all_words)\n",
    "    vector2 = [0] * len(all_words)\n",
    " \n",
    "    # build the vector for the first sentence\n",
    "    for w in sent1:\n",
    "        if w in stopwords:\n",
    "            continue\n",
    "        vector1[all_words.index(w)] += 1\n",
    " \n",
    "    # build the vector for the second sentence\n",
    "    for w in sent2:\n",
    "        if w in stopwords:\n",
    "            continue\n",
    "        vector2[all_words.index(w)] += 1\n",
    " \n",
    "    return 1 - cosine_distance(vector1, vector2)"
   ]
  },
  {
   "cell_type": "code",
   "execution_count": 42,
   "metadata": {},
   "outputs": [],
   "source": [
    "def build_similarity_matrix(sentences, stop_words):\n",
    "    # Create an empty similarity matrix\n",
    "    similarity_matrix = np.zeros((len(sentences), len(sentences)))\n",
    " \n",
    "    for idx1 in range(len(sentences)):\n",
    "        for idx2 in range(len(sentences)):\n",
    "            if idx1 == idx2: #ignore if both are same sentences\n",
    "                continue \n",
    "            similarity_matrix[idx1][idx2] = sentence_similarity(sentences[idx1], sentences[idx2], stop_words)\n",
    "    return similarity_matrix"
   ]
  },
  {
   "cell_type": "code",
   "execution_count": 48,
   "metadata": {},
   "outputs": [],
   "source": [
    "def generate_summary(file_name, top_n=5):\n",
    "    stop_words = stopwords.words('english')\n",
    "    summarize_text = []\n",
    "    # Step 1 - Read text and tokenize\n",
    "    sentences =  read_article(file_name)\n",
    "    # Step 2 - Generate Similary Martix across sentences\n",
    "    sentence_similarity_martix = build_similarity_matrix(sentences, stop_words)\n",
    "    # Step 3 - Rank sentences in similarity martix\n",
    "    sentence_similarity_graph = nx.from_numpy_array(sentence_similarity_martix)\n",
    "    scores = nx.pagerank(sentence_similarity_graph)\n",
    "    # Step 4 - Sort the rank and pick top sentences\n",
    "    ranked_sentence = sorted(((scores[i],s) for i,s in enumerate(sentences)), reverse=True) \n",
    "    for i in range(len(ranked_sentence)):\n",
    "        summarize_text.append(\" \".join(ranked_sentence[i][1]))\n",
    "    # Step 5 - Offcourse, output the summarize texr\n",
    "    print(\"Summarize Text: \\n\", \". \".join(summarize_text))   \n",
    "    print(\"\\n\\nFor indexes of top ranked_sentence order press x and then enter:\\n\\n\")\n",
    "    return ranked_sentence"
   ]
  },
  {
   "cell_type": "code",
   "execution_count": 49,
   "metadata": {},
   "outputs": [
    {
     "name": "stdout",
     "output_type": "stream",
     "text": [
      "Summarize Text: \n",
      " A VISUALLY STUNNING FILM TOPPED WITH GREAT PERFORMANCES STORY: A complex love story set during India’s Partition era, where the young Roop (Alia Bhatt) is torn between respect for husband Dev (Aditya Roy Kapur) and her newfound love for Zafar (Varun Dhawan). The other high points of the film are the problematic equation between father and son, Dev and Balraj as well as the fragile teacher-student dynamic between Bahaar Begum and Roop. While their back stories and heart-breaking love saga unfolds, the history of India takes an epic turn, from where there is no coming backREVIEW: As the name suggests, 'Kalank' is a story that questions the high morals of society, especially when it comes to love and family ties. In that aspect, writer and director Abhishek Varman's film makes a strong point.The story is based in a town called Husnabad, near Lahora few years before the Partition of India and Pakistan. And yet, there are sublime moments like the uneasy relationship between newly-weds Roop and Dev, the tender exchanges between Satya and Dev and the romantic scenes (topped with intense dialogues) between Roop and Zaffar. Without revealing too much, during a visit to Bahaar Begum's chamber (where Roop is honing her music skills) Roop meets Zafar, the local blacksmith and after several meetings they develop strong feelings for each other. At the heart of the story, the film focuses on how eternal love goes beyond the norms and rules of society, the trappings of religion, and all other physical and man-made boundaries. But the complexities in the story are just about to begin. At a dramatic moment in the film, Aditya Roy Kapur's Dev remarks that if someone’s wife is in love with another man, then what is the point of the marriage at all. The story seems like it offers something new, but the complex relationships and ill-fated romances are often predictable. Dev’s life takes a sudden turn when under strange circumstances he gets married to Roop. Husnabad's most affluent family is the Chaudhrys - Dev and his father Balraj (Sanjay Dutt), who also run a liberal newspaper called The Daily News. While it does make a strong case for the universal nature of love, thefilm's screenplay at times, becomes a little too indulgent and keeps oscillating between the deft nuances as well as theatrical drama. This period drama is mounted on a lavish scale and whether it's the sets or the costumes, everything about the film brings the grandeur alive. What we wish is that the narrative lingered more with such intimate moments that would make us feel more for the characters. It's a town populated by blacksmiths and a majority of them are Muslims. What’s fresh about 'Kalank' is the treatment\n",
      "\n",
      "\n",
      "For indexes of top ranked_sentence order press x and then enter:\n",
      "\n",
      "\n"
     ]
    }
   ],
   "source": [
    "x=generate_summary( \"ab.txt\", 5)"
   ]
  },
  {
   "cell_type": "code",
   "execution_count": null,
   "metadata": {},
   "outputs": [],
   "source": []
  }
 ],
 "metadata": {
  "kernelspec": {
   "display_name": "Python 3",
   "language": "python",
   "name": "python3"
  },
  "language_info": {
   "codemirror_mode": {
    "name": "ipython",
    "version": 3
   },
   "file_extension": ".py",
   "mimetype": "text/x-python",
   "name": "python",
   "nbconvert_exporter": "python",
   "pygments_lexer": "ipython3",
   "version": "3.6.3"
  }
 },
 "nbformat": 4,
 "nbformat_minor": 2
}
