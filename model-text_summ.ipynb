{
 "cells": [
  {
   "cell_type": "markdown",
   "metadata": {},
   "source": [
    "# Implimenting abstractive text summerization"
   ]
  },
  {
   "cell_type": "code",
   "execution_count": 9,
   "metadata": {},
   "outputs": [],
   "source": [
    "#import all the necessary libraries\n",
    "from nltk.corpus import stopwords\n",
    "from nltk.cluster.util import cosine_distance\n",
    "import numpy as np\n",
    "import networkx as nx"
   ]
  },
  {
   "cell_type": "code",
   "execution_count": 71,
   "metadata": {},
   "outputs": [],
   "source": [
    "#generate precize sentences\n",
    "def read_article(file_form,num):\n",
    "    article=[]\n",
    "    if num==1:\n",
    "        file = open(file_form, \"r\")\n",
    "        filedata = file.readlines()\n",
    "        for i in range(len(filedata)):\n",
    "            article.append(filedata[i].split(\". \"))\n",
    "    if num==2:\n",
    "        text_url=text_article(file_form)\n",
    "        article.append(text_url.split(\".\"))\n",
    "    if num==3:\n",
    "        article.append(file_form.split(\".\"))\n",
    "    article_text = \"\"\n",
    "    #print(len(article[0]))    \n",
    "    sentences = []\n",
    "    for sentence in article[0]:\n",
    "        #print(sentence)\n",
    "        sentences.append(sentence.replace(\"[^a-zA-Z]\", \" \").split(\" \")) \n",
    "    return sentences"
   ]
  },
  {
   "cell_type": "code",
   "execution_count": 83,
   "metadata": {},
   "outputs": [],
   "source": [
    "#import libraries\n",
    "import bs4 as bs  \n",
    "import urllib.request  \n",
    "import re\n",
    "#processing data from url\n",
    "def text_article(url):\n",
    "    scraped_data = urllib.request.urlopen(url)  \n",
    "    article = scraped_data.read()\n",
    "    parsed_article = bs.BeautifulSoup(article,'lxml')\n",
    "    paragraphs = parsed_article.find_all('p')\n",
    "    article_text = \"\"\n",
    "    for p in paragraphs:  \n",
    "        article_text += p.text\n",
    "    # Removing Square Brackets and Extra Spaces\n",
    "    article_text = re.sub(r'\\[[0-9]*\\]', ' ', article_text)  \n",
    "    article_text = re.sub(r'\\s+', ' ', article_text)\n",
    "    print(article_text)\n",
    "    # Removing special characters and digits\n",
    "    formatted_article_text = re.sub('[^a-zA-Z]', ' ', article_text )  \n",
    "    formatted_article_text = re.sub(r'\\s+', ' ', formatted_article_text) \n",
    "    return formatted_article_text"
   ]
  },
  {
   "cell_type": "code",
   "execution_count": 84,
   "metadata": {},
   "outputs": [],
   "source": [
    "#building cosine difference between two sentence vector\n",
    "def sentence_similarity(sent1, sent2, stopwords=None):\n",
    "    if stopwords is None:\n",
    "        stopwords = []\n",
    "    sent1 = [w.lower() for w in sent1]\n",
    "    sent2 = [w.lower() for w in sent2]\n",
    "    all_words = list(set(sent1 + sent2))\n",
    "    vector1 = [0] * len(all_words)\n",
    "    vector2 = [0] * len(all_words)\n",
    "    # build the vector for the first sentence\n",
    "    for w in sent1:\n",
    "        if w in stopwords:\n",
    "            continue\n",
    "        vector1[all_words.index(w)] += 1\n",
    "    # build the vector for the second sentence\n",
    "    for w in sent2:\n",
    "        if w in stopwords:\n",
    "            continue\n",
    "        vector2[all_words.index(w)] += 1\n",
    " \n",
    "    return 1 - cosine_distance(vector1, vector2)"
   ]
  },
  {
   "cell_type": "code",
   "execution_count": 85,
   "metadata": {},
   "outputs": [],
   "source": [
    "def build_similarity_matrix(sentences, stop_words):\n",
    "    # Create an empty similarity matrix\n",
    "    similarity_matrix = np.zeros((len(sentences), len(sentences)))\n",
    " \n",
    "    for idx1 in range(len(sentences)):\n",
    "        for idx2 in range(len(sentences)):\n",
    "            if idx1 == idx2: #ignore if both are same sentences\n",
    "                continue \n",
    "            similarity_matrix[idx1][idx2] = sentence_similarity(sentences[idx1], sentences[idx2], stop_words)\n",
    "    return similarity_matrix"
   ]
  },
  {
   "cell_type": "code",
   "execution_count": 86,
   "metadata": {},
   "outputs": [],
   "source": [
    "def generate_summary(file_name, num):\n",
    "    stop_words = stopwords.words('english')\n",
    "    summarize_text = []\n",
    "    # Step 1 - Read text and tokenize\n",
    "    sentences =  read_article(file_name,num)\n",
    "    # Step 2 - Generate Similary Martix across sentences\n",
    "    sentence_similarity_martix = build_similarity_matrix(sentences, stop_words)\n",
    "    # Step 3 - Rank sentences in similarity martix\n",
    "    sentence_similarity_graph = nx.from_numpy_array(sentence_similarity_martix)\n",
    "    scores = nx.pagerank(sentence_similarity_graph)\n",
    "    # Step 4 - Sort the rank and pick top sentences\n",
    "    ranked_sentence = sorted(((scores[i],s) for i,s in enumerate(sentences)), reverse=True) \n",
    "    for i in range(len(ranked_sentence)):\n",
    "        summarize_text.append(\" \".join(ranked_sentence[i][1]))\n",
    "    # Step 5 - Offcourse, output the summarize texr\n",
    "    summ_text=\". \".join(summarize_text)   \n",
    "    print(\"\\n\\nFor indexes of top ranked_sentence order press x and then enter:\\n\\n\")\n",
    "    return ranked_sentence,summ_text"
   ]
  },
  {
   "cell_type": "code",
   "execution_count": 92,
   "metadata": {
    "collapsed": true
   },
   "outputs": [
    {
     "name": "stdout",
     "output_type": "stream",
     "text": [
      "\n",
      "\n",
      "For indexes of top ranked_sentence order press x and then enter:\n",
      "\n",
      "\n",
      "Summarize Text: \n",
      " .  A VISUALLY STUNNING FILM TOPPED WITH GREAT PERFORMANCES STORY: A complex love story set during India’s Partition era, where the young Roop (Alia Bhatt) is torn between respect for husband Dev (Aditya Roy Kapur) and her newfound love for Zafar (Varun Dhawan). The other high points of the film are the problematic equation between father and son, Dev and Balraj as well as the fragile teacher-student dynamic between Bahaar Begum and Roop. While their back stories and heart-breaking love saga unfolds, the history of India takes an epic turn, from where there is no coming backREVIEW: As the name suggests, 'Kalank' is a story that questions the high morals of society, especially when it comes to love and family ties. In that aspect, writer and director Abhishek Varman's film makes a strong point.The story is based in a town called Husnabad, near Lahora few years before the Partition of India and Pakistan. And yet, there are sublime moments like the uneasy relationship between newly-weds Roop and Dev, the tender exchanges between Satya and Dev and the romantic scenes (topped with intense dialogues) between Roop and Zaffar. Without revealing too much, during a visit to Bahaar Begum's chamber (where Roop is honing her music skills) Roop meets Zafar, the local blacksmith and after several meetings they develop strong feelings for each other. At the heart of the story, the film focuses on how eternal love goes beyond the norms and rules of society, the trappings of religion, and all other physical and man-made boundaries. But the complexities in the story are just about to begin. At a dramatic moment in the film, Aditya Roy Kapur's Dev remarks that if someone’s wife is in love with another man, then what is the point of the marriage at all. The story seems like it offers something new, but the complex relationships and ill-fated romances are often predictable. Dev’s life takes a sudden turn when under strange circumstances he gets married to Roop. Husnabad's most affluent family is the Chaudhrys - Dev and his father Balraj (Sanjay Dutt), who also run a liberal newspaper called The Daily News. While it does make a strong case for the universal nature of love, thefilm's screenplay at times, becomes a little too indulgent and keeps oscillating between the deft nuances as well as theatrical drama. This period drama is mounted on a lavish scale and whether it's the sets or the costumes, everything about the film brings the grandeur alive. What we wish is that the narrative lingered more with such intimate moments that would make us feel more for the characters. It's a town populated by blacksmiths and a majority of them are Muslims. What’s fresh about 'Kalank' is the treatment. \n",
      "\n"
     ]
    }
   ],
   "source": [
    "x,y=generate_summary( \"ab.txt\",1)\n",
    "print(\"Summarize Text: \\n\", \". \",y)"
   ]
  },
  {
   "cell_type": "code",
   "execution_count": 95,
   "metadata": {
    "collapsed": true
   },
   "outputs": [
    {
     "name": "stdout",
     "output_type": "stream",
     "text": [
      " The Tashkent Files Story: A young and ambitious journalist Ragini (Shweta Basu Prasad) receives an anonymous tip about a scoop behind India’s ex-Prime Minister Lal Bahadur Shastri’s mysterious death in Tashkent. She publishes a story in the newspaper, which leads to an official committee being set up by the government to investigate the 53-year-old case. The Tashkent Files Review: Based on one of the most controversial chapters of India’s history, The Tashkent Files tries to recreate a hard-hitting and volatile political drama. The film is based in modern times, as a journalist takes a deep dive into investigating Lal Bahadur Shastri’s death from 1966. While the pursuit of truth after half-a-century may seem jaded, the young journalist, played by Shweta Basu Prasad, chases the scoop because she’s overly ambitious and in the world of social media, any sensationalist topic, will do. So she and a whole host of politicians, social workers and civil servants, join a committee that has the task of uncovering and reinvestigating the truth. It’s a setup borrowed from 12 Angry Men, and the lack of novelty doesn’t help the proceedings at all. Director and writer Vivek Agnihotri explores a lot of political stories, facts and rumours through the story. As the young journo comes face to face with the history of Shastri’s death, she also realises that the world of politics and espionage can be overwhelming for the common man. That the story is able to put across such a relevant point is commendable, but the execution of such ideas is far from ideal. The direction and narrative of the film is inconsistent. Also the music, both the background score and the songs used in montages, are too loud and don’t compliment the complex nature of the story at all. One of the film’s strengths should have been the ensemble cast featuring Naseeruddin Shah, Mithun Chakraborty, Pallavi Joshi, Pankaj Tripathi, Mandira Bedi and more. But, apart from Mithun Chakraborty, no other actor gets a character that does justice to the talents of the actors. Even the film’s lead, Shweta Basu Prasad, gives an honest performance in an underdeveloped character. The Tashkent Files makes some shocking claims about India’s political history, dynasty politics and the citizen’s right to know the truth. All its sensational content is relevant and important social issues are highlighted, too. But, the storytelling effort is half-baked and lacks the finesse that such a heavy-duty film requires. It also doesn’t help that the final slide of the movie tells the audience that the authenticity of all the facts displayed in the film cannot be verified. \n",
      "\n",
      "\n",
      "For indexes of top ranked_sentence order press x and then enter:\n",
      "\n",
      "\n",
      "Summarize Text: \n",
      "  The Tashkent Files Story A young and ambitious journalist Ragini Shweta Basu Prasad receives an anonymous tip about a scoop behind India s ex Prime Minister Lal Bahadur Shastri s mysterious death in Tashkent She publishes a story in the newspaper which leads to an official committee being set up by the government to investigate the year old case The Tashkent Files Review Based on one of the most controversial chapters of India s history The Tashkent Files tries to recreate a hard hitting and volatile political drama The film is based in modern times as a journalist takes a deep dive into investigating Lal Bahadur Shastri s death from While the pursuit of truth after half a century may seem jaded the young journalist played by Shweta Basu Prasad chases the scoop because she s overly ambitious and in the world of social media any sensationalist topic will do So she and a whole host of politicians social workers and civil servants join a committee that has the task of uncovering and reinvestigating the truth It s a setup borrowed from Angry Men and the lack of novelty doesn t help the proceedings at all Director and writer Vivek Agnihotri explores a lot of political stories facts and rumours through the story As the young journo comes face to face with the history of Shastri s death she also realises that the world of politics and espionage can be overwhelming for the common man That the story is able to put across such a relevant point is commendable but the execution of such ideas is far from ideal The direction and narrative of the film is inconsistent Also the music both the background score and the songs used in montages are too loud and don t compliment the complex nature of the story at all One of the film s strengths should have been the ensemble cast featuring Naseeruddin Shah Mithun Chakraborty Pallavi Joshi Pankaj Tripathi Mandira Bedi and more But apart from Mithun Chakraborty no other actor gets a character that does justice to the talents of the actors Even the film s lead Shweta Basu Prasad gives an honest performance in an underdeveloped character The Tashkent Files makes some shocking claims about India s political history dynasty politics and the citizen s right to know the truth All its sensational content is relevant and important social issues are highlighted too But the storytelling effort is half baked and lacks the finesse that such a heavy duty film requires It also doesn t help that the final slide of the movie tells the audience that the authenticity of all the facts displayed in the film cannot be verified \n"
     ]
    }
   ],
   "source": [
    "x,y=generate_summary( \"https://www.filmfare.com/reviews/bollywood-movies/movie-review-the-tashkent-files-33275.html\",2)\n",
    "print(\"Summarize Text: \\n\",y)"
   ]
  },
  {
   "cell_type": "code",
   "execution_count": 82,
   "metadata": {},
   "outputs": [],
   "source": [
    "string=\"In an attempt to build an AI-ready workforce, Microsoft announced Intelligent Cloud Hub which has been launched to empower the next generation of students with AI-ready skills. Envisioned as a three-year collaborative program, Intelligent Cloud Hub will support around 100 institutions with AI infrastructure, course content and curriculum, developer support, development tools and give students access to cloud and AI services. As part of the program, the Redmond giant which wants to expand its reach and is planning to build a strong developer ecosystem in India with the program will set up the core AI infrastructure and IoT Hub for the selected campuses. The company will provide AI development tools and Azure AI services such as Microsoft Cognitive Services, Bot Services and Azure Machine Learning.According to Manish Prakash, Country General Manager-PS, Health and Education, Microsoft India, said, \"\"With AI being the defining technology of our time, it is transforming lives and industry and the jobs of tomorrow will require a different skillset. This will require more collaborations and training and working with AI. That’s why it has become more critical than ever for educational institutions to integrate new cloud and AI technologies. The program is an attempt to ramp up the institutional set-up and build capabilities among the educators to educate the workforce of tomorrow.\" +\"The program aims to build up the cognitive skills and in-depth understanding of developing intelligent cloud connected solutions for applications across industry. Earlier in April this year, the company announced Microsoft Professional Program In AI as a learning track open to the public. The program was developed to provide job ready skills to programmers who wanted to hone their skills in AI and data science with a series of online courses which featured hands-on labs and expert instructors as well. This program also included developer-focused AI school that provided a bunch of assets to help build AI skills.\""
   ]
  },
  {
   "cell_type": "markdown",
   "metadata": {},
   "source": [
    "# Reviewer vs public(opinion difference)"
   ]
  },
  {
   "cell_type": "code",
   "execution_count": 96,
   "metadata": {},
   "outputs": [],
   "source": [
    "import nltk\n",
    "from nltk.sentiment.vader import SentimentIntensityAnalyzer \n",
    "sid = SentimentIntensityAnalyzer()\n",
    "ss = sid.polarity_scores(y)"
   ]
  },
  {
   "cell_type": "code",
   "execution_count": 97,
   "metadata": {},
   "outputs": [
    {
     "data": {
      "text/plain": [
       "{'neg': 0.047, 'neu': 0.847, 'pos': 0.106, 'compound': 0.9802}"
      ]
     },
     "execution_count": 97,
     "metadata": {},
     "output_type": "execute_result"
    }
   ],
   "source": [
    "ss"
   ]
  },
  {
   "cell_type": "code",
   "execution_count": 98,
   "metadata": {},
   "outputs": [],
   "source": [
    "#general opinion of tashkent files critic is "
   ]
  },
  {
   "cell_type": "code",
   "execution_count": null,
   "metadata": {},
   "outputs": [],
   "source": []
  }
 ],
 "metadata": {
  "kernelspec": {
   "display_name": "Python 3",
   "language": "python",
   "name": "python3"
  },
  "language_info": {
   "codemirror_mode": {
    "name": "ipython",
    "version": 3
   },
   "file_extension": ".py",
   "mimetype": "text/x-python",
   "name": "python",
   "nbconvert_exporter": "python",
   "pygments_lexer": "ipython3",
   "version": "3.6.3"
  }
 },
 "nbformat": 4,
 "nbformat_minor": 2
}
