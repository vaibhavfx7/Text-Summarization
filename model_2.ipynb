{
 "cells": [
  {
   "cell_type": "code",
   "execution_count": 1,
   "metadata": {},
   "outputs": [],
   "source": [
    "#import libraries\n",
    "import bs4 as bs  \n",
    "import urllib.request  \n",
    "import re"
   ]
  },
  {
   "cell_type": "code",
   "execution_count": 4,
   "metadata": {},
   "outputs": [],
   "source": [
    "#processing data from url\n",
    "def text_article(url):\n",
    "    scraped_data = urllib.request.urlopen(url)  \n",
    "    article = scraped_data.read()\n",
    "    parsed_article = bs.BeautifulSoup(article,'lxml')\n",
    "    paragraphs = parsed_article.find_all('p')\n",
    "    article_text = \"\"\n",
    "    for p in paragraphs:  \n",
    "        article_text += p.text\n",
    "    # Removing Square Brackets and Extra Spaces\n",
    "    article_text = re.sub(r'\\[[0-9]*\\]', ' ', article_text)  \n",
    "    article_text = re.sub(r'\\s+', ' ', article_text)\n",
    "    print(article_text)\n",
    "    # Removing special characters and digits\n",
    "    formatted_article_text = re.sub('[^a-zA-Z]', ' ', article_text )  \n",
    "    formatted_article_text = re.sub(r'\\s+', ' ', formatted_article_text) \n",
    "    return formatted_article_text"
   ]
  },
  {
   "cell_type": "code",
   "execution_count": 49,
   "metadata": {},
   "outputs": [],
   "source": [
    "scraped_data = urllib.request.urlopen('https://www.filmfare.com/reviews/bollywood-movies/movie-review-the-tashkent-files-33275.html')  \n",
    "article = scraped_data.read()\n",
    "#print(article)\n",
    "parsed_article = bs.BeautifulSoup(article,'lxml')\n",
    "#print(parsed_article)\n",
    "paragraphs = parsed_article.find_all('p')\n",
    "l = parsed_article.find_all('review')\n",
    "#print(paragraphs,\"\\n\",l)\n",
    "article_text = \"\""
   ]
  },
  {
   "cell_type": "code",
   "execution_count": 50,
   "metadata": {},
   "outputs": [],
   "source": [
    "for p in paragraphs:  \n",
    "    article_text += p.text"
   ]
  },
  {
   "cell_type": "code",
   "execution_count": 51,
   "metadata": {},
   "outputs": [
    {
     "name": "stdout",
     "output_type": "stream",
     "text": [
      " The Tashkent Files Story: A young and ambitious journalist Ragini (Shweta Basu Prasad) receives an anonymous tip about a scoop behind India’s ex-Prime Minister Lal Bahadur Shastri’s mysterious death in Tashkent. She publishes a story in the newspaper, which leads to an official committee being set up by the government to investigate the 53-year-old case. The Tashkent Files Review: Based on one of the most controversial chapters of India’s history, The Tashkent Files tries to recreate a hard-hitting and volatile political drama. The film is based in modern times, as a journalist takes a deep dive into investigating Lal Bahadur Shastri’s death from 1966. While the pursuit of truth after half-a-century may seem jaded, the young journalist, played by Shweta Basu Prasad, chases the scoop because she’s overly ambitious and in the world of social media, any sensationalist topic, will do. So she and a whole host of politicians, social workers and civil servants, join a committee that has the task of uncovering and reinvestigating the truth. It’s a setup borrowed from 12 Angry Men, and the lack of novelty doesn’t help the proceedings at all. Director and writer Vivek Agnihotri explores a lot of political stories, facts and rumours through the story. As the young journo comes face to face with the history of Shastri’s death, she also realises that the world of politics and espionage can be overwhelming for the common man. That the story is able to put across such a relevant point is commendable, but the execution of such ideas is far from ideal. The direction and narrative of the film is inconsistent. Also the music, both the background score and the songs used in montages, are too loud and don’t compliment the complex nature of the story at all. One of the film’s strengths should have been the ensemble cast featuring Naseeruddin Shah, Mithun Chakraborty, Pallavi Joshi, Pankaj Tripathi, Mandira Bedi and more. But, apart from Mithun Chakraborty, no other actor gets a character that does justice to the talents of the actors. Even the film’s lead, Shweta Basu Prasad, gives an honest performance in an underdeveloped character. The Tashkent Files makes some shocking claims about India’s political history, dynasty politics and the citizen’s right to know the truth. All its sensational content is relevant and important social issues are highlighted, too. But, the storytelling effort is half-baked and lacks the finesse that such a heavy-duty film requires. It also doesn’t help that the final slide of the movie tells the audience that the authenticity of all the facts displayed in the film cannot be verified. \n"
     ]
    }
   ],
   "source": [
    "# Removing Square Brackets and Extra Spaces\n",
    "article_text = re.sub(r'\\[[0-9]*\\]', ' ', article_text)  \n",
    "article_text = re.sub(r'\\s+', ' ', article_text)\n",
    "print(article_text)\n",
    "# Removing special characters and digits\n",
    "formatted_article_text = re.sub('[^a-zA-Z]', ' ', article_text )  \n",
    "formatted_article_text = re.sub(r'\\s+', ' ', formatted_article_text) "
   ]
  },
  {
   "cell_type": "code",
   "execution_count": 54,
   "metadata": {},
   "outputs": [],
   "source": [
    "article=list(map(str,formatted_article_text.split(\".\")))"
   ]
  },
  {
   "cell_type": "code",
   "execution_count": 59,
   "metadata": {},
   "outputs": [
    {
     "data": {
      "text/plain": [
       "' The Tashkent Files Story A young and ambitious journalist Ragini Shweta Basu Prasad receives an anonymous tip about a scoop behind India s ex Prime Minister Lal Bahadur Shastri s mysterious death in Tashkent She publishes a story in the newspaper which leads to an official committee being set up by the government to investigate the year old case The Tashkent Files Review Based on one of the most controversial chapters of India s history The Tashkent Files tries to recreate a hard hitting and volatile political drama The film is based in modern times as a journalist takes a deep dive into investigating Lal Bahadur Shastri s death from While the pursuit of truth after half a century may seem jaded the young journalist played by Shweta Basu Prasad chases the scoop because she s overly ambitious and in the world of social media any sensationalist topic will do So she and a whole host of politicians social workers and civil servants join a committee that has the task of uncovering and reinvestigating the truth It s a setup borrowed from Angry Men and the lack of novelty doesn t help the proceedings at all Director and writer Vivek Agnihotri explores a lot of political stories facts and rumours through the story As the young journo comes face to face with the history of Shastri s death she also realises that the world of politics and espionage can be overwhelming for the common man That the story is able to put across such a relevant point is commendable but the execution of such ideas is far from ideal The direction and narrative of the film is inconsistent Also the music both the background score and the songs used in montages are too loud and don t compliment the complex nature of the story at all One of the film s strengths should have been the ensemble cast featuring Naseeruddin Shah Mithun Chakraborty Pallavi Joshi Pankaj Tripathi Mandira Bedi and more But apart from Mithun Chakraborty no other actor gets a character that does justice to the talents of the actors Even the film s lead Shweta Basu Prasad gives an honest performance in an underdeveloped character The Tashkent Files makes some shocking claims about India s political history dynasty politics and the citizen s right to know the truth All its sensational content is relevant and important social issues are highlighted too But the storytelling effort is half baked and lacks the finesse that such a heavy duty film requires It also doesn t help that the final slide of the movie tells the audience that the authenticity of all the facts displayed in the film cannot be verified '"
      ]
     },
     "execution_count": 59,
     "metadata": {},
     "output_type": "execute_result"
    }
   ],
   "source": [
    "(article[0])"
   ]
  },
  {
   "cell_type": "code",
   "execution_count": null,
   "metadata": {},
   "outputs": [],
   "source": []
  },
  {
   "cell_type": "code",
   "execution_count": 36,
   "metadata": {},
   "outputs": [],
   "source": [
    "from scipy import spatial\n",
    "\n",
    "dataSetI = [3, 45, 7, 2]\n",
    "dataSetII = [2, 54, 13, 15]\n",
    "result = 1 - spatial.distance.cosine(dataSetI, dataSetII)"
   ]
  },
  {
   "cell_type": "code",
   "execution_count": 37,
   "metadata": {},
   "outputs": [],
   "source": [
    "import matplotlib.pyplot as plt"
   ]
  },
  {
   "cell_type": "code",
   "execution_count": 39,
   "metadata": {},
   "outputs": [
    {
     "data": {
      "text/plain": [
       "[<matplotlib.lines.Line2D at 0x27fdb2e4320>,\n",
       " <matplotlib.lines.Line2D at 0x27fdb2e4080>]"
      ]
     },
     "execution_count": 39,
     "metadata": {},
     "output_type": "execute_result"
    },
    {
     "data": {
      "image/png": "[encoded data removed]",
      "text/plain": [
       "<Figure size 432x288 with 1 Axes>"
      ]
     },
     "metadata": {},
     "output_type": "display_data"
    }
   ],
   "source": [
    "plt.plot(dataSetI,dataSetII,result)"
   ]
  },
  {
   "cell_type": "code",
   "execution_count": 71,
   "metadata": {},
   "outputs": [
    {
     "name": "stdout",
     "output_type": "stream",
     "text": [
      "Great place to be when you are in Bangalore.\n",
      "{'neg': 0.0, 'neu': 0.661, 'pos': 0.339, 'compound': 0.6249}\n",
      "The place was being renovated when I visited so the seating was limited.\n",
      "{'neg': 0.147, 'neu': 0.853, 'pos': 0.0, 'compound': -0.2263}\n",
      "Loved the ambience, loved the food\n",
      "{'neg': 0.0, 'neu': 0.339, 'pos': 0.661, 'compound': 0.8316}\n",
      "The food is delicious but not over the top.\n",
      "{'neg': 0.168, 'neu': 0.623, 'pos': 0.209, 'compound': 0.1184}\n",
      "Service - Little slow, probably because too many people.\n",
      "{'neg': 0.0, 'neu': 1.0, 'pos': 0.0, 'compound': 0.0}\n",
      "The place is not easy to locate\n",
      "{'neg': 0.286, 'neu': 0.714, 'pos': 0.0, 'compound': -0.3412}\n",
      "Mushroom fried rice was tasty\n",
      "{'neg': 0.0, 'neu': 1.0, 'pos': 0.0, 'compound': 0.0}\n"
     ]
    }
   ],
   "source": [
    "import nltk\n",
    "from nltk.sentiment.vader import SentimentIntensityAnalyzer \n",
    "  \n",
    "hotel_rev = [\"Great place to be when you are in Bangalore.\",\n",
    "            \"The place was being renovated when I visited so the seating was limited.\",\n",
    "            \"Loved the ambience, loved the food\",\n",
    "            \"The food is delicious but not over the top.\",\n",
    "            \"Service - Little slow, probably because too many people.\",\n",
    "            \"The place is not easy to locate\",\n",
    "            \"Mushroom fried rice was tasty\"]\n",
    "  \n",
    "sid = SentimentIntensityAnalyzer()\n",
    "for sentence in hotel_rev:\n",
    "    print(sentence)\n",
    "    ss = sid.polarity_scores(sentence)\n",
    "    print(ss)\n",
    "    #for k in ss:\n",
    "     #   print(‘{0}: {1}, ‘.format(k, ss[k]), end=’’)"
   ]
  },
  {
   "cell_type": "code",
   "execution_count": null,
   "metadata": {},
   "outputs": [],
   "source": []
  },
  {
   "cell_type": "code",
   "execution_count": null,
   "metadata": {},
   "outputs": [],
   "source": []
  }
 ],
 "metadata": {
  "kernelspec": {
   "display_name": "Python 3",
   "language": "python",
   "name": "python3"
  },
  "language_info": {
   "codemirror_mode": {
    "name": "ipython",
    "version": 3
   },
   "file_extension": ".py",
   "mimetype": "text/x-python",
   "name": "python",
   "nbconvert_exporter": "python",
   "pygments_lexer": "ipython3",
   "version": "3.6.3"
  }
 },
 "nbformat": 4,
 "nbformat_minor": 2
}
